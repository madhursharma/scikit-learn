{
  "nbformat": 4,
  "nbformat_minor": 0,
  "metadata": {
    "colab": {
      "name": "Untitled0.ipynb",
      "version": "0.3.2",
      "provenance": [],
      "include_colab_link": true
    },
    "kernelspec": {
      "name": "python3",
      "display_name": "Python 3"
    }
  },
  "cells": [
    {
      "cell_type": "markdown",
      "metadata": {
        "id": "view-in-github",
        "colab_type": "text"
      },
      "source": [
        "[View in Colaboratory](https://colab.research.google.com/github/madhursharma/scikit-learn/blob/master/TensorFlow_Keras_Test.ipynb)"
      ]
    },
    {
      "metadata": {
        "id": "PlO5cVHMHq27",
        "colab_type": "code",
        "colab": {}
      },
      "cell_type": "code",
      "source": [
        "import tensorflow as tf\n",
        "from tensorflow import keras\n",
        "import numpy as np\n"
      ],
      "execution_count": 0,
      "outputs": []
    },
    {
      "metadata": {
        "id": "qulAtTvOISQ8",
        "colab_type": "text"
      },
      "cell_type": "markdown",
      "source": [
        "test keras in colab\n"
      ]
    },
    {
      "metadata": {
        "id": "D10MvRmoIteZ",
        "colab_type": "code",
        "colab": {}
      },
      "cell_type": "code",
      "source": [
        "print (\"Check versions\")\n",
        "a = np."
      ],
      "execution_count": 0,
      "outputs": []
    }
  ]
}